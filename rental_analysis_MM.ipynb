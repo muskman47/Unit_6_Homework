{
 "cells": [
  {
   "cell_type": "markdown",
   "metadata": {},
   "source": [
    "# San Francisco Housing Rental Analysis\n",
    "\n",
    "In this assignment, you will perform basic analysis for the San Francisco Housing Market to allow potential real estate investors to choose rental investment properties. "
   ]
  },
  {
   "cell_type": "code",
   "execution_count": null,
   "metadata": {},
   "outputs": [],
   "source": [
    "# initial imports\n",
    "import os\n",
    "import pandas as pd\n",
    "import matplotlib.pyplot as plt\n",
    "import plotly.express as px\n",
    "import hvplot.pandas\n",
    "from pathlib import Path\n",
    "from dotenv import load_dotenv\n",
    "\n",
    "%matplotlib inline"
   ]
  },
  {
   "cell_type": "code",
   "execution_count": null,
   "metadata": {},
   "outputs": [],
   "source": [
    "# Read the Mapbox API key\n",
    "load_dotenv()\n",
    "mapbox_token = os.getenv(\"MAPBOX_API_KEY\")\n",
    "px.set_mapbox_access_token(mapbox_token)"
   ]
  },
  {
   "cell_type": "markdown",
   "metadata": {},
   "source": [
    "## Load Data"
   ]
  },
  {
   "cell_type": "code",
   "execution_count": null,
   "metadata": {},
   "outputs": [],
   "source": [
    "# Read the census data into a Pandas DataFrame\n",
    "file_path = Path(\"Data/sfo_neighborhoods_census_data.csv\")\n",
    "sfo_data = pd.read_csv(file_path, index_col=\"year\")\n",
    "sfo_data.head()"
   ]
  },
  {
   "cell_type": "markdown",
   "metadata": {},
   "source": [
    "- - - "
   ]
  },
  {
   "cell_type": "markdown",
   "metadata": {},
   "source": [
    "## Housing Units Per Year\n",
    "\n",
    "In this section, you will calculate the number of housing units per year and visualize the results as a bar chart using the Pandas plot function. \n",
    "\n",
    "Hint: Use the Pandas groupby function\n",
    "\n",
    "Optional challenge: Use the min, max, and std to scale the y limits of the chart."
   ]
  },
  {
   "cell_type": "code",
   "execution_count": null,
   "metadata": {},
   "outputs": [],
   "source": [
    "# Calculate the mean number of housing units per year (hint: use groupby) \n",
    "sfo_unit_ave = sfo_data['housing_units'].groupby(['year']).mean()\n",
    "sfo_unit_ave"
   ]
  },
  {
   "cell_type": "code",
   "execution_count": null,
   "metadata": {},
   "outputs": [],
   "source": [
    "# Use the Pandas plot function to plot the average housing units per year.\n",
    "# Note: You will need to manually adjust the y limit of the chart using the min and max values from above.\n",
    "fig_housing_units = sfo_unit_ave.hvplot.bar(\n",
    "    xlabel='Year',\n",
    "    ylabel='Housing Units',\n",
    "    rot=45,\n",
    "    ylim=(370000, 385000),\n",
    "    yformatter='%0f',\n",
    "    title='Housing Units in San Francisco from 2010 to 2016')\n",
    "\n",
    "fig_housing_units"
   ]
  },
  {
   "cell_type": "markdown",
   "metadata": {},
   "source": [
    "- - - "
   ]
  },
  {
   "cell_type": "markdown",
   "metadata": {},
   "source": [
    "## Average Prices per Square Foot\n",
    "\n",
    "In this section, you will calculate the average gross rent and average sales price for each year. Plot the results as a line chart."
   ]
  },
  {
   "cell_type": "markdown",
   "metadata": {},
   "source": [
    "### Average Gross Rent in San Francisco Per Year"
   ]
  },
  {
   "cell_type": "code",
   "execution_count": null,
   "metadata": {},
   "outputs": [],
   "source": [
    "# Calculate the average gross rent and average sale price per square foot\n",
    "sfo_ave_spsf = sfo_data[{'sale_price_sqr_foot', 'gross_rent'}].groupby(['year']).mean()\n",
    "\n",
    "# re-organizing the columns to match order in starter code:\n",
    "sfo_ave_spsf.reindex(columns=['sale_price_sqr_foot', 'gross_rent'])\n",
    "sfo_ave_spsf"
   ]
  },
  {
   "cell_type": "code",
   "execution_count": null,
   "metadata": {},
   "outputs": [],
   "source": [
    "# Plot the Average Gross Rent per Year as a Line Chart \n",
    "ave_gross_rent = sfo_ave_spsf['gross_rent'].hvplot.line(\n",
    "    xlabel='Year',\n",
    "    ylabel='Gross Rent',\n",
    "    rot=45,\n",
    "    ylim=(1000, 4500),\n",
    "    title='Average Gross Rent in San Francisco')\n",
    "\n",
    "ave_gross_rent"
   ]
  },
  {
   "cell_type": "markdown",
   "metadata": {},
   "source": [
    "### Average Sales Price per Year"
   ]
  },
  {
   "cell_type": "code",
   "execution_count": null,
   "metadata": {},
   "outputs": [],
   "source": [
    "# Plot the Average Sales Price per Year as a line chart\n",
    "ave_sales_price = sfo_ave_spsf['sale_price_sqr_foot'].hvplot.line(\n",
    "    xlabel='Year',\n",
    "    ylabel='Average Sale Price',\n",
    "    rot=45,\n",
    "    ylim=(300, 750),\n",
    "    title='Average Sales Price Per Square Foot in San Francisco')\n",
    "\n",
    "ave_sales_price"
   ]
  },
  {
   "cell_type": "markdown",
   "metadata": {},
   "source": [
    "- - - "
   ]
  },
  {
   "cell_type": "markdown",
   "metadata": {},
   "source": [
    "## Average Prices by Neighborhood\n",
    "\n",
    "In this section, you will use hvplot to create an interactive visulization of the Average Prices with a dropdown selector for the neighborhood.\n",
    "\n",
    "Hint: It will be easier to create a new DataFrame from grouping the data and calculating the mean prices for each year and neighborhood"
   ]
  },
  {
   "cell_type": "code",
   "execution_count": null,
   "metadata": {},
   "outputs": [],
   "source": [
    "# Group by year and neighborhood and then create a new dataframe of the mean values\n",
    "sfo_neigh_mean = sfo_data[{'sale_price_sqr_foot', 'neighborhood'}].groupby(['year','neighborhood']).mean()\n",
    "\n",
    "#sfo_neigh_mean.reset_index(inplace=True)\n",
    "sfo_neigh_mean.reset_index(inplace=True)\n",
    "sfo_neigh_mean.head()"
   ]
  },
  {
   "cell_type": "code",
   "execution_count": null,
   "metadata": {},
   "outputs": [],
   "source": [
    "# Use hvplot to create an interactive line chart of the average price per sq ft.\n",
    "sfo_neigh_mean.hvplot.line(\n",
    "    x='year', \n",
    "    y='sale_price_sqr_foot', \n",
    "    width=600, \n",
    "    groupby='neighborhood', \n",
    "    widget_location='left_top',\n",
    "    title='Average Price by Neighborhood')"
   ]
  },
  {
   "cell_type": "markdown",
   "metadata": {},
   "source": [
    "- - - "
   ]
  },
  {
   "cell_type": "markdown",
   "metadata": {},
   "source": [
    "## The Top 10 Most Expensive Neighborhoods\n",
    "\n",
    "In this section, you will need to calculate the mean sale price for each neighborhood and then sort the values to obtain the top 10 most expensive neighborhoods on average. Plot the results as a bar chart."
   ]
  },
  {
   "cell_type": "code",
   "execution_count": null,
   "metadata": {},
   "outputs": [],
   "source": [
    "# Getting the data from the top 10 expensive neighborhoods\n",
    "# Creating dataframe with sale price per sq foot and neighborhood columns:\n",
    "sfo_neigh_ave = sfo_data.groupby(['neighborhood']).mean()\n",
    "\n",
    "# Sorting the dataframe in descending order to easily identify the top 10 most expensive:\n",
    "sfo_neigh_ave.sort_values(by=['sale_price_sqr_foot'], ascending=False, inplace=True)\n",
    "\n",
    "# Assigning the Top 10 most expensive on average to new dataframe/variable:\n",
    "top_10 = sfo_neigh_ave.head(10)\n",
    "top_10.reset_index()"
   ]
  },
  {
   "cell_type": "code",
   "execution_count": null,
   "metadata": {},
   "outputs": [],
   "source": [
    "# Plotting the data from the top 10 expensive neighborhoods\n",
    "top_10[{'sale_price_sqr_foot'}].hvplot.bar(rot=45, title='Top 10 Most Expensive Neighborhoods on Average')"
   ]
  },
  {
   "cell_type": "markdown",
   "metadata": {},
   "source": [
    "- - - "
   ]
  },
  {
   "cell_type": "markdown",
   "metadata": {},
   "source": [
    "## Parallel Coordinates and Parallel Categories Analysis\n",
    "\n",
    "In this section, you will use plotly express to create parallel coordinates and parallel categories visualizations so that investors can interactively filter and explore various factors related to the sales price of the neighborhoods. \n",
    "\n",
    "Using the DataFrame of Average values per neighborhood (calculated above), create the following visualizations:\n",
    "1. Create a Parallel Coordinates Plot\n",
    "2. Create a Parallel Categories Plot"
   ]
  },
  {
   "cell_type": "code",
   "execution_count": null,
   "metadata": {},
   "outputs": [],
   "source": [
    "# resetting the index to prepare to incorporate into parallel coordinates & categories plots: \n",
    "top_10.reset_index(inplace=True)\n",
    "\n",
    "# Parallel Coordinates Plot\n",
    "px.parallel_coordinates(\n",
    "    top_10,\n",
    "    color= 'sale_price_sqr_foot')"
   ]
  },
  {
   "cell_type": "code",
   "execution_count": null,
   "metadata": {},
   "outputs": [],
   "source": [
    "# Parallel Categories Plot:\n",
    "px.parallel_categories(\n",
    "    round(top_10,2),\n",
    "    dimensions=['neighborhood','sale_price_sqr_foot', 'housing_units', 'gross_rent'],\n",
    "    color= 'sale_price_sqr_foot',\n",
    "    color_continuous_scale=px.colors.sequential.Inferno,\n",
    "    labels={\n",
    "        \"neighborhood\": \"Neighborhood\",\n",
    "        \"sale_price_sqr_foot\": \"Sale Price Per Sq Foot\",\n",
    "        \"housing_units\": \"Housing Units\",\n",
    "        \"gross_rent\": \"Gross Rent\"        \n",
    "    },\n",
    ")"
   ]
  },
  {
   "cell_type": "markdown",
   "metadata": {},
   "source": [
    "- - - "
   ]
  },
  {
   "cell_type": "markdown",
   "metadata": {},
   "source": [
    "## Neighborhood Map\n",
    "\n",
    "In this section, you will read in neighboor location data and build an interactive map with the average prices per neighborhood. Use a scatter_mapbox from plotly express to create the visualization. Remember, you will need your mapbox api key for this."
   ]
  },
  {
   "cell_type": "markdown",
   "metadata": {},
   "source": [
    "### Load Location Data"
   ]
  },
  {
   "cell_type": "code",
   "execution_count": null,
   "metadata": {},
   "outputs": [],
   "source": [
    "# Load neighborhoods coordinates data\n",
    "file_path = Path(\"Data/neighborhoods_coordinates.csv\")\n",
    "df_neighborhood_locations = pd.read_csv(file_path)\n",
    "df_neighborhood_locations.head()"
   ]
  },
  {
   "cell_type": "markdown",
   "metadata": {},
   "source": [
    "### Data Preparation\n",
    "\n",
    "You will need to join the location data with the mean prices per neighborhood\n",
    "\n",
    "1. Calculate the mean values for each neighborhood\n",
    "2. Join the average values with the neighborhood locations"
   ]
  },
  {
   "cell_type": "code",
   "execution_count": null,
   "metadata": {},
   "outputs": [],
   "source": [
    "# Calculate the mean values for each neighborhood\n",
    "# Already calculated mean in df sfo_neigh_ave so joined with location df on index 'neighborhood':\n",
    "join_df = sfo_neigh_ave.join(df_neighborhood_locations.set_index('Neighborhood'))\n",
    "\n",
    "# resetting the index so it can feed into the mapbox plot:\n",
    "join_df.reset_index(inplace=True)\n",
    "join_df.head()"
   ]
  },
  {
   "cell_type": "markdown",
   "metadata": {},
   "source": [
    "##### Join the average values with the neighborhood locations\n",
    "###### See my code in cell above"
   ]
  },
  {
   "cell_type": "markdown",
   "metadata": {},
   "source": [
    "### Mapbox Visualization\n",
    "\n",
    "Plot the aveage values per neighborhood with a plotly express scatter_mapbox visualization."
   ]
  },
  {
   "cell_type": "code",
   "execution_count": null,
   "metadata": {},
   "outputs": [],
   "source": [
    "# Create a scatter mapbox to analyze neighborhood info\n",
    "map_plot = px.scatter_mapbox(\n",
    "    round(join_df,2),\n",
    "    title='Average Sale Price Per Square Foot and Gross Rent in San Francisco',\n",
    "    lat=\"Lat\",\n",
    "    lon=\"Lon\",\n",
    "    size='sale_price_sqr_foot',\n",
    "    color=\"gross_rent\",\n",
    "    hover_name='neighborhood',\n",
    "    zoom=10\n",
    ")\n",
    "\n",
    "# Displaying the map:\n",
    "map_plot.show()"
   ]
  }
 ],
 "metadata": {
  "file_extension": ".py",
  "kernelspec": {
   "display_name": "pyvizenv",
   "language": "python",
   "name": "pyvizenv"
  },
  "language_info": {
   "codemirror_mode": {
    "name": "ipython",
    "version": 3
   },
   "file_extension": ".py",
   "mimetype": "text/x-python",
   "name": "python",
   "nbconvert_exporter": "python",
   "pygments_lexer": "ipython3",
   "version": "3.7.9"
  },
  "mimetype": "text/x-python",
  "name": "python",
  "npconvert_exporter": "python",
  "pygments_lexer": "ipython3",
  "version": 3
 },
 "nbformat": 4,
 "nbformat_minor": 4
}
